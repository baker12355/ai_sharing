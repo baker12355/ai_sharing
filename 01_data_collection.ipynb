{
 "cells": [
  {
   "cell_type": "code",
   "execution_count": 1,
   "metadata": {},
   "outputs": [
    {
     "name": "stderr",
     "output_type": "stream",
     "text": [
      "/Users/baker_yang/Desktop/workspace/work/customer_feedback_ai/venv/lib/python3.11/site-packages/tqdm/auto.py:21: TqdmWarning: IProgress not found. Please update jupyter and ipywidgets. See https://ipywidgets.readthedocs.io/en/stable/user_install.html\n",
      "  from .autonotebook import tqdm as notebook_tqdm\n"
     ]
    }
   ],
   "source": [
    "import openai\n",
    "import pandas as pd\n",
    "from tqdm.auto import tqdm\n",
    "import tiktoken\n",
    "\n",
    "tqdm.pandas()"
   ]
  },
  {
   "cell_type": "code",
   "execution_count": 2,
   "metadata": {},
   "outputs": [],
   "source": [
    "AZURE_OPENAI_KEY = \"\"\n",
    "AZURE_OPENAI_ENDPOINT = \"\"\n",
    "openai.api_key = AZURE_OPENAI_KEY\n",
    "openai.api_base = AZURE_OPENAI_ENDPOINT\n",
    "openai.api_type = 'azure'\n",
    "openai.api_version = '2023-05-15'  # this may change in the future\n",
    "DATAPATH = \"Restaurant_Reviews.tsv\""
   ]
  },
  {
   "cell_type": "code",
   "execution_count": 3,
   "metadata": {},
   "outputs": [],
   "source": [
    "def first_message(*input: str) -> str:\n",
    "\n",
    "    messages = [\n",
    "        {\"role\": \"system\",\n",
    "         \"content\": \"Assistant is a helper, help restoran chef to summary the feedback of customers dining experience and/or food. Assistant can say idk if it can not identify the reasons.\"},\n",
    "\n",
    "        {\"role\": \"user\", \"content\": \"This hole in the wall has great Mexican street tacos, and friendly staff.\"},\n",
    "        {\"role\": \"assistant\", \"content\": \"Customer feel good with Mexican street tacos and friendly staff\"},\n",
    "\n",
    "        {\"role\": \"user\",\n",
    "         \"content\": \"Took an hour to get our food only 4 tables in restaurant my food was Luke warm, Our sever was running around like he was totally overwhelmed.\"},\n",
    "        {\"role\": \"assistant\",\n",
    "         \"content\": \"Customer feel not good with took too long to get the food, tables not enough and bad services of server.\"},\n",
    "\n",
    "        {\"role\": \"user\",\n",
    "         \"content\": \"Our server was fantastic and when he found out the wife loves roasted garlic and bone marrow, he added extra to our meal and another marrow to go!\"},\n",
    "        {\"role\": \"assistant\",\n",
    "         \"content\": \"Customer feel good with a fantastic services, roasted garlic, bone marrow and extra meal.\"},\n",
    "\n",
    "        {\"role\": \"user\",\n",
    "         \"content\": \"He was extremely rude and really, there are so many other restaurants I would love to dine at during a weekend in Vegas.\"},\n",
    "        {\"role\": \"assistant\", \"content\": \"Customer feel not good with bad services of server.\"},\n",
    "\n",
    "        {\"role\": \"user\", \"content\": \"I think not again.\"},\n",
    "        {\"role\": \"assistant\", \"content\": \"idk\"},\n",
    "    ]\n",
    "\n",
    "    messages = [\n",
    "        {\"role\": \"system\",\n",
    "         \"content\": \"Assistant is a helper, help restoran chef to summary the feedback of customers dining experience and/or food. Assistant can say idk if it can not identify the reasons. There are 5 feedbacks from customers, please summarize the feedback and use $ at the end of each summarized feedback.\"},\n",
    "\n",
    "        {\n",
    "            \"role\": \"user\",\n",
    "            \"content\": \\\n",
    "                \"/0 I think not again.$\"\\\n",
    "                \"/1 This hole in the wall has great Mexican street tacos, and friendly staff.$\"\\\n",
    "                \"/2 Took an hour to get our food only 4 tables in restaurant my food was Luke warm, Our sever was running around like he was totally overwhelmed.$\"\\\n",
    "                \"/3 Our server was fantastic and when he found out the wife loves roasted garlic and bone marrow, he added extra to our meal and another marrow to go!$\"\\\n",
    "                \"/4 He was extremely rude and really, there are so many other restaurants I would love to dine at during a weekend in Vegas.$\"\n",
    "                ,\n",
    "            \"role\": \"assistant\",\n",
    "            \"content\": \\\n",
    "                \"/0 idk.$\"\\\n",
    "                \"/1 Customer feel good with Mexican street tacos and friendly staff.$\"\\\n",
    "                \"/2 Customer feel not good with took too long to get the food, tables not enough and bad services of server.$\"\\\n",
    "                \"/3 Customer feel good with a fantastic services, roasted garlic, bone marrow and extra meal.$\"\\\n",
    "                \"/4 Customer feel not good with bad services of server.$\"\n",
    "        }\n",
    "    ]\n",
    "\n",
    "    # messages = [\n",
    "    #     {\"role\": \"system\",\n",
    "    #      \"content\": \"Assistant is a helper, help restoran chef to summary the feedback of customers dining experience and/or food. Assistant can say idk if it can not identify the reasons. There are 5 feedbacks from customers, please summarize the feedback and use $ at the end of each summarized feedback.\"\\\n",
    "    #      \"The input format will like this: \"\\\n",
    "    #         \"[{'0': 'I think not again.'},\"\\\n",
    "    #         \"{'1': 'This hole in the wall has great Mexican street tacos, and friendly staff.'},\"\\\n",
    "    #         \"{'2': 'Took an hour to get our food only 4 tables in restaurant my food was Luke warm, Our sever was running around like he was totally overwhelmed.'},\"\\\n",
    "    #         \"{'3': 'Our server was fantastic and when he found out the wife loves roasted garlic and bone marrow, he added extra to our meal and another marrow to go!'},\"\\\n",
    "    #         \"{'4': 'He was extremely rude and really, there are so many other restaurants I would love to dine at during a weekend in Vegas.'}]\"\\\n",
    "    #     \" And your response will like this: \"\\\n",
    "    #         \"[{'0': 'idk.'},\"\\\n",
    "    #         \"{'1': 'Customer feel good with Mexican street tacos and friendly staff.'},\"\\\n",
    "    #         \"{'2': 'Customer feel not good with took too long to get the food, tables not enough and bad services of server.'},\"\\\n",
    "    #         \"{'3': 'Customer feel good with a fantastic services, roasted garlic, bone marrow and extra meal.'},\"\\\n",
    "    #         \"{'4': 'Customer feel not good with bad services of server.'}]\"\\\n",
    "    #     }\n",
    "    # ]\n",
    "\n",
    "    \n",
    "    for reviews in input:\n",
    "        messages.append({\"role\": \"user\", \"content\": reviews})\n",
    "\n",
    "    try:\n",
    "        response = openai.ChatCompletion.create(\n",
    "            engine=\"gpt-35-turbo\",  # The deployment name you chose when you deployed the ChatGPT or GPT-4 model.\n",
    "            messages=messages,\n",
    "            temperature=0,\n",
    "            top_p=0\n",
    "        )\n",
    "        return response['choices'][0]['message']['content']\n",
    "\n",
    "    except openai.error.InvalidRequestError as e:\n",
    "        if e.error.code == \"content_filter\":\n",
    "            return \"[message be filtered]\"\n",
    "        else:\n",
    "            return \"None\"\n",
    "\n",
    "\n",
    "def gen_embedding(input : str):\n",
    "    deployment_model_name='text-embedding-ada-002' #This will correspond to the custom name you chose for your deployment when you deployed a model.\n",
    "\n",
    "    # Send a completion call to generate an answer\n",
    "    response = openai.Embedding.create(\n",
    "        input=input,\n",
    "        engine=deployment_model_name\n",
    "    )\n",
    "\n",
    "    # print(response)\n",
    "    embeddings = response['data'][0]['embedding']\n",
    "\n",
    "    return embeddings\n",
    "\n",
    "\n",
    "def num_tokens_from_string(string: str, encoding_name=\"cl100k_base\") -> int:\n",
    "    \"\"\"Returns the number of tokens in a text string.\"\"\"\n",
    "    encoding = tiktoken.get_encoding(encoding_name)\n",
    "    num_tokens = len(encoding.encode(string))\n",
    "    return num_tokens"
   ]
  },
  {
   "cell_type": "code",
   "execution_count": null,
   "metadata": {},
   "outputs": [],
   "source": [
    "# A+b -> A+5b\n",
    "# A -> A/5"
   ]
  },
  {
   "cell_type": "code",
   "execution_count": 4,
   "metadata": {},
   "outputs": [],
   "source": [
    "# first_message(\"\"\"This place is not worth your time, let alone Vegas.\"\"\")\n",
    "# gen_embedding(\"\"\"It's Raw!'\"\"\")"
   ]
  },
  {
   "cell_type": "code",
   "execution_count": 19,
   "metadata": {},
   "outputs": [
    {
     "data": {
      "text/html": [
       "<div>\n",
       "<style scoped>\n",
       "    .dataframe tbody tr th:only-of-type {\n",
       "        vertical-align: middle;\n",
       "    }\n",
       "\n",
       "    .dataframe tbody tr th {\n",
       "        vertical-align: top;\n",
       "    }\n",
       "\n",
       "    .dataframe thead th {\n",
       "        text-align: right;\n",
       "    }\n",
       "</style>\n",
       "<table border=\"1\" class=\"dataframe\">\n",
       "  <thead>\n",
       "    <tr style=\"text-align: right;\">\n",
       "      <th></th>\n",
       "      <th>comment</th>\n",
       "      <th>label</th>\n",
       "      <th>n_tokens</th>\n",
       "    </tr>\n",
       "  </thead>\n",
       "  <tbody>\n",
       "    <tr>\n",
       "      <th>0</th>\n",
       "      <td>Wow... Loved this place.</td>\n",
       "      <td>1</td>\n",
       "      <td>6</td>\n",
       "    </tr>\n",
       "    <tr>\n",
       "      <th>1</th>\n",
       "      <td>Crust is not good.</td>\n",
       "      <td>0</td>\n",
       "      <td>6</td>\n",
       "    </tr>\n",
       "    <tr>\n",
       "      <th>2</th>\n",
       "      <td>Not tasty and the texture was just nasty.</td>\n",
       "      <td>0</td>\n",
       "      <td>9</td>\n",
       "    </tr>\n",
       "    <tr>\n",
       "      <th>3</th>\n",
       "      <td>Stopped by during the late May bank holiday of...</td>\n",
       "      <td>1</td>\n",
       "      <td>16</td>\n",
       "    </tr>\n",
       "    <tr>\n",
       "      <th>4</th>\n",
       "      <td>The selection on the menu was great and so wer...</td>\n",
       "      <td>1</td>\n",
       "      <td>13</td>\n",
       "    </tr>\n",
       "    <tr>\n",
       "      <th>...</th>\n",
       "      <td>...</td>\n",
       "      <td>...</td>\n",
       "      <td>...</td>\n",
       "    </tr>\n",
       "    <tr>\n",
       "      <th>1005</th>\n",
       "      <td>I wouldn't trust you running a bath, let alone...</td>\n",
       "      <td>0</td>\n",
       "      <td>14</td>\n",
       "    </tr>\n",
       "    <tr>\n",
       "      <th>1006</th>\n",
       "      <td>The fish is so raw, it is still finding nemo</td>\n",
       "      <td>0</td>\n",
       "      <td>12</td>\n",
       "    </tr>\n",
       "    <tr>\n",
       "      <th>1007</th>\n",
       "      <td>you burnt the chicken so black, the police arr...</td>\n",
       "      <td>0</td>\n",
       "      <td>11</td>\n",
       "    </tr>\n",
       "    <tr>\n",
       "      <th>1008</th>\n",
       "      <td>the mushroom is so raw, it said the princess i...</td>\n",
       "      <td>0</td>\n",
       "      <td>14</td>\n",
       "    </tr>\n",
       "    <tr>\n",
       "      <th>1009</th>\n",
       "      <td>you used so much oil, the U.S. is trying to in...</td>\n",
       "      <td>0</td>\n",
       "      <td>16</td>\n",
       "    </tr>\n",
       "  </tbody>\n",
       "</table>\n",
       "<p>1010 rows × 3 columns</p>\n",
       "</div>"
      ],
      "text/plain": [
       "                                                comment  label  n_tokens\n",
       "0                              Wow... Loved this place.      1         6\n",
       "1                                    Crust is not good.      0         6\n",
       "2             Not tasty and the texture was just nasty.      0         9\n",
       "3     Stopped by during the late May bank holiday of...      1        16\n",
       "4     The selection on the menu was great and so wer...      1        13\n",
       "...                                                 ...    ...       ...\n",
       "1005  I wouldn't trust you running a bath, let alone...      0        14\n",
       "1006       The fish is so raw, it is still finding nemo      0        12\n",
       "1007  you burnt the chicken so black, the police arr...      0        11\n",
       "1008  the mushroom is so raw, it said the princess i...      0        14\n",
       "1009  you used so much oil, the U.S. is trying to in...      0        16\n",
       "\n",
       "[1010 rows x 3 columns]"
      ]
     },
     "execution_count": 19,
     "metadata": {},
     "output_type": "execute_result"
    }
   ],
   "source": [
    "df = pd.read_csv(DATAPATH,sep='\\t', header=None)\n",
    "df.columns = [\"comment\", \"label\"]\n",
    "\n",
    "df[\"n_tokens\"] = df.comment.apply(lambda x: num_tokens_from_string(x))\n",
    "df"
   ]
  },
  {
   "cell_type": "code",
   "execution_count": 24,
   "metadata": {},
   "outputs": [],
   "source": [
    "feedback = []\n",
    "import time"
   ]
  },
  {
   "cell_type": "code",
   "execution_count": 33,
   "metadata": {},
   "outputs": [
    {
     "name": "stdout",
     "output_type": "stream",
     "text": [
      "950 955 960 965 970 975 980 985 990 995 1000 1005 "
     ]
    }
   ],
   "source": [
    "BATCH = 5\n",
    "n = len(feedback)\n",
    "\n",
    "\n",
    "for i in range(n, 1010, BATCH):\n",
    "    print(i, end=\" \")\n",
    "    comment = df[\"comment\"].iloc[i:i+BATCH]\n",
    "    comments = [f\"/{i} {comment.iloc[i]}\" for i in range(len(comment))]\n",
    "\n",
    "    fb = first_message(f\"\"\"{comments}\"\"\")\n",
    "    fb = fb.split(\"$\")\n",
    "\n",
    "    if len(fb) == (BATCH+1):\n",
    "        fb = fb[:BATCH]\n",
    "    else:\n",
    "        if len(fb) != BATCH:\n",
    "            print(i, fb)\n",
    "            fb = [\"\"] * BATCH\n",
    "    \n",
    "    feedback += fb\n",
    "    time.sleep(4)"
   ]
  },
  {
   "cell_type": "code",
   "execution_count": 34,
   "metadata": {},
   "outputs": [
    {
     "data": {
      "text/plain": [
       "1010"
      ]
     },
     "execution_count": 34,
     "metadata": {},
     "output_type": "execute_result"
    }
   ],
   "source": [
    "len(feedback)"
   ]
  },
  {
   "cell_type": "code",
   "execution_count": 35,
   "metadata": {},
   "outputs": [],
   "source": [
    "df[\"feedback\"] = feedback\n",
    "df[\"feedback\"] = df[\"feedback\"].apply(lambda x: x[3:])\n",
    "df[\"feedback\"] = df[\"feedback\"].apply(lambda x: x.strip(\" \"))"
   ]
  },
  {
   "cell_type": "code",
   "execution_count": 36,
   "metadata": {},
   "outputs": [],
   "source": [
    "df_1 = df.copy()\n",
    "df_1 = df_1[df_1[\"feedback\"]!='']\n",
    "df_1 = df_1[df_1[\"feedback\"].str.startswith(\"Customer\")]"
   ]
  },
  {
   "cell_type": "code",
   "execution_count": 37,
   "metadata": {},
   "outputs": [],
   "source": [
    "def get_embedding(text, model=\"text-embedding-ada-002\"):\n",
    "   text = text.replace(\"\\n\", \" \")\n",
    "   return openai.Embedding.create(input = [text], model=model)['data'][0]['embedding']\n",
    "\n",
    "def gen_embedding(input : str):\n",
    "    deployment_model_name='text-embedding-ada-002' #This will correspond to the custom name you chose for your deployment when you deployed a model.\n",
    "\n",
    "    # Send a completion call to generate an answer\n",
    "    response = openai.Embedding.create(\n",
    "        input=input,\n",
    "        engine=deployment_model_name\n",
    "    )\n",
    "\n",
    "    # print(response)\n",
    "    embeddings = response['data'][0]['embedding']\n",
    "\n",
    "    return embeddings"
   ]
  },
  {
   "attachments": {},
   "cell_type": "markdown",
   "metadata": {},
   "source": []
  },
  {
   "cell_type": "code",
   "execution_count": 38,
   "metadata": {},
   "outputs": [],
   "source": [
    "df_1['ada_embedding'] = df_1[\"feedback\"].apply(lambda x: gen_embedding(x))"
   ]
  },
  {
   "cell_type": "code",
   "execution_count": 39,
   "metadata": {},
   "outputs": [],
   "source": [
    "df_1.to_csv(\"process.csv\", index=False)"
   ]
  },
  {
   "cell_type": "code",
   "execution_count": null,
   "metadata": {},
   "outputs": [],
   "source": []
  },
  {
   "cell_type": "code",
   "execution_count": null,
   "metadata": {},
   "outputs": [],
   "source": []
  },
  {
   "cell_type": "code",
   "execution_count": null,
   "metadata": {},
   "outputs": [],
   "source": []
  },
  {
   "cell_type": "code",
   "execution_count": null,
   "metadata": {},
   "outputs": [],
   "source": []
  },
  {
   "cell_type": "code",
   "execution_count": null,
   "metadata": {},
   "outputs": [],
   "source": []
  },
  {
   "cell_type": "code",
   "execution_count": null,
   "metadata": {},
   "outputs": [],
   "source": []
  },
  {
   "cell_type": "code",
   "execution_count": null,
   "metadata": {},
   "outputs": [],
   "source": []
  },
  {
   "cell_type": "code",
   "execution_count": null,
   "metadata": {},
   "outputs": [],
   "source": []
  },
  {
   "cell_type": "code",
   "execution_count": null,
   "metadata": {},
   "outputs": [],
   "source": []
  },
  {
   "cell_type": "code",
   "execution_count": null,
   "metadata": {},
   "outputs": [],
   "source": []
  }
 ],
 "metadata": {
  "interpreter": {
   "hash": "0d0b914718737ee59620226b97778db920a8cefa1811a89efac1a75726636e99"
  },
  "kernelspec": {
   "display_name": "Python 3.11.3 ('venv': venv)",
   "language": "python",
   "name": "python3"
  },
  "language_info": {
   "codemirror_mode": {
    "name": "ipython",
    "version": 3
   },
   "file_extension": ".py",
   "mimetype": "text/x-python",
   "name": "python",
   "nbconvert_exporter": "python",
   "pygments_lexer": "ipython3",
   "version": "3.11.3"
  },
  "orig_nbformat": 4
 },
 "nbformat": 4,
 "nbformat_minor": 2
}
